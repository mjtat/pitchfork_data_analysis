{
 "cells": [
  {
   "cell_type": "code",
   "execution_count": null,
   "metadata": {},
   "outputs": [],
   "source": [
    "import sys\n",
    "import spacy\n",
    "import re\n",
    "import pickle\n",
    "import numpy as np\n",
    "import pandas as pd\n",
    "import scipy as sp\n",
    "from nltk.stem.porter import PorterStemmer\n",
    "from sklearn.feature_extraction.text import CountVectorizer\n",
    "from spacy.lang.en.stop_words import STOP_WORDS \n",
    "from collections import Counter\n",
    "from plotnine import *\n",
    "from pandas.tseries.offsets import MonthBegin\n",
    "from yellowbrick.features import Rank2D\n",
    "import feather\n",
    "import matplotlib.pyplot as plt\n",
    "from sklearn.feature_selection import VarianceThreshold\n",
    "from sklearn import linear_model\n",
    "from sklearn.model_selection import train_test_split\n",
    "from sklearn.model_selection import cross_val_score\n",
    "from sklearn.ensemble import RandomForestRegressor, RandomForestClassifier\n",
    "from sklearn.naive_bayes import MultinomialNB\n",
    "from sklearn.model_selection import RandomizedSearchCV\n",
    "from imblearn.over_sampling import SMOTE, ADASYN\n",
    "from imblearn.combine import SMOTEENN\n",
    "from sklearn.pipeline import Pipeline\n",
    "from sklearn.preprocessing import StandardScaler"
   ]
  },
  {
   "cell_type": "code",
   "execution_count": null,
   "metadata": {},
   "outputs": [],
   "source": [
    "# Read in data\n",
    "pitchfork_data = feather.read_dataframe('pitchfork_tfidf.feather')\n"
   ]
  },
  {
   "cell_type": "code",
   "execution_count": null,
   "metadata": {},
   "outputs": [],
   "source": [
    "pitchfork_data.head()"
   ]
  },
  {
   "cell_type": "markdown",
   "metadata": {},
   "source": [
    "### Let's take a look at the number of reviews made each year and the average score year to year."
   ]
  },
  {
   "cell_type": "code",
   "execution_count": null,
   "metadata": {},
   "outputs": [],
   "source": [
    "pitchfork_data['month'] = pd.to_datetime(pitchfork_data['publication_date'], errors='coerce').dt.normalize() + MonthBegin(0)\n",
    "pitchfork_data['month_label'] = pitchfork_data['month'].dt.strftime('%b')\n",
    "# Get monthly mean of scores.\n",
    "by_date = pitchfork_data.groupby('month')['score'].mean().reset_index()\n",
    "\n",
    "#Get monthly counts of scores\n",
    "by_date_count = pitchfork_data.groupby('month')['score'].size().reset_index()\n",
    "\n",
    "# Merge Data together\n",
    "by_date = by_date.merge(by_date_count, on='month', how='inner')\n",
    "\n",
    "# Rename some columns\n",
    "by_date = by_date.rename({\"score_x\": 'score', 'score_y': 'count'}, axis='columns')"
   ]
  },
  {
   "cell_type": "code",
   "execution_count": null,
   "metadata": {},
   "outputs": [],
   "source": [
    "pitchfork_data"
   ]
  },
  {
   "cell_type": "code",
   "execution_count": null,
   "metadata": {},
   "outputs": [],
   "source": [
    "# Let's plot the scores by each year. I fit a local regression line (loess) to indicate the general trend. \n",
    "# Note that use the plotnine library, which is updated frequently and uses ggplot2 syntax.\n",
    "(\n",
    "    ggplot(by_date, aes('month', 'score'))\n",
    "    + geom_line()\n",
    "    +scale_x_date(breaks='1 year')\n",
    "    + theme(axis_text_x = element_text(angle=90))\n",
    "    + geom_smooth(method='loess', color='red')\n",
    "    + xlab('Year')\n",
    "    + ylab('Average Album Score')\n",
    ").save('yearly.png', width=8, height=4, units='in', dpi=500,)"
   ]
  },
  {
   "cell_type": "code",
   "execution_count": null,
   "metadata": {},
   "outputs": [],
   "source": []
  },
  {
   "cell_type": "code",
   "execution_count": null,
   "metadata": {},
   "outputs": [],
   "source": [
    "# Let's plot the number  of reviews year over year. Note the bumps: seasonal effects due to the holidays.\n",
    "(\n",
    "    ggplot(by_date, aes('month', 'count'))\n",
    "    + geom_line()\n",
    "    +scale_x_date(breaks='1 year')\n",
    "    + theme(axis_text_x = element_text(angle=90))\n",
    "    + geom_smooth(method='loess', color='red')\n",
    ")"
   ]
  },
  {
   "cell_type": "markdown",
   "metadata": {},
   "source": [
    "### Are there any intrinsic differences between reviewers? Let's take a look."
   ]
  },
  {
   "cell_type": "code",
   "execution_count": null,
   "metadata": {},
   "outputs": [],
   "source": [
    "reviewer_count = pitchfork_data.groupby('author')['score'].size().reset_index().sort_values('score', ascending=False)\n",
    "reviewer_avg_score = pitchfork_data.groupby('author')['score'].mean().reset_index().sort_values('score', ascending=False)\n",
    "reviewer_data = reviewer_count.merge(reviewer_avg_score, on='author', how='inner')\n",
    "reviewer_data = reviewer_data.rename({'score_x': 'review_count', 'score_y':'averge_score'}, axis='columns')\n"
   ]
  },
  {
   "cell_type": "code",
   "execution_count": null,
   "metadata": {},
   "outputs": [],
   "source": [
    "# Let's do a bar plot of score counts and average review scores\n",
    "(\n",
    "    ggplot(reviewer_data.loc[0:25,:], aes('author', 'review_count'))\n",
    "    + geom_bar(stat='identity')\n",
    "    + theme(axis_text_x = element_text(angle=90)) + coord_flip()\n",
    ")"
   ]
  },
  {
   "cell_type": "code",
   "execution_count": null,
   "metadata": {},
   "outputs": [],
   "source": [
    "# Let's do a bar plot of score counts and average review scores\n",
    "(\n",
    "    ggplot(reviewer_data.loc[0:25,:], aes('author', 'averge_score'))\n",
    "    + geom_bar(stat='identity')\n",
    "    + theme(axis_text_x = element_text(angle=90)) + coord_flip()\n",
    ")"
   ]
  },
  {
   "cell_type": "code",
   "execution_count": null,
   "metadata": {},
   "outputs": [],
   "source": [
    "# Average scores don't necessarily tell the story. Let's take a look at the average scores for some of our most frequent\n",
    "# reviewers.\n",
    "\n",
    "joe_tangari = pitchfork_data.loc[pitchfork_data['author']=='Joe Tangari']\n",
    "ian_cohen = pitchfork_data.loc[pitchfork_data['author']=='Ian Cohen']\n",
    "steven_d = pitchfork_data.loc[pitchfork_data['author']=='Stephen M. Deusner']\n",
    "stuart_berman = pitchfork_data.loc[pitchfork_data['author']=='Stuart Berman']"
   ]
  },
  {
   "cell_type": "code",
   "execution_count": null,
   "metadata": {},
   "outputs": [],
   "source": [
    "# Let's do a bar plot of score counts and average review scores\n",
    "# Joe Tangary pretty consistent around 7-8\n",
    "(\n",
    "    ggplot(joe_tangari, aes('score'))\n",
    "    + geom_histogram(color='black', fill='purple', bins=20)\n",
    "    + scale_x_continuous(breaks=np.arange(0,11,1))\n",
    ")"
   ]
  },
  {
   "cell_type": "code",
   "execution_count": null,
   "metadata": {},
   "outputs": [],
   "source": [
    "# Mr. Cohen's distribution is much wider, indicating he's a bit more\n",
    "# Varied in his scoring.\n",
    "(\n",
    "    ggplot(ian_cohen, aes('score'))\n",
    "    + geom_histogram(color='black', fill='purple', bins=20)\n",
    "    + scale_x_continuous(breaks=np.arange(0,11,1))\n",
    ")"
   ]
  },
  {
   "cell_type": "code",
   "execution_count": null,
   "metadata": {},
   "outputs": [],
   "source": [
    "(\n",
    "    ggplot(steven_d, aes('score'))\n",
    "    + geom_histogram(color='black', fill='purple', bins=20)\n",
    "    + scale_x_continuous(breaks=np.arange(0,11,1))\n",
    ")"
   ]
  },
  {
   "cell_type": "code",
   "execution_count": null,
   "metadata": {},
   "outputs": [],
   "source": [
    "(\n",
    "    ggplot(stuart_berman, aes('score'))\n",
    "    + geom_histogram(color='black', fill='purple', bins=20)\n",
    "    + scale_x_continuous(breaks=np.arange(0,11,1))\n",
    ")"
   ]
  },
  {
   "cell_type": "code",
   "execution_count": null,
   "metadata": {},
   "outputs": [],
   "source": [
    "joe_tangari = pitchfork_data.loc[pitchfork_data['author']=='Joe Tangari']\n",
    "ian_cohen = pitchfork_data.loc[pitchfork_data['author']=='Ian Cohen']\n",
    "steven_d = pitchfork_data.loc[pitchfork_data['author']=='Stephen M. Deusner']\n",
    "stuart_berman = pitchfork_data.loc[pitchfork_data['author']=='Stuart Berman']"
   ]
  },
  {
   "cell_type": "code",
   "execution_count": null,
   "metadata": {},
   "outputs": [],
   "source": [
    "author_hist = pitchfork_data.loc[pitchfork_data['author'].isin(['Joe Tangari', 'Ian Cohen','Stephen M. Deusner', 'Stuart Berman', 'Brian Howe', 'Mark Richardson' ])]"
   ]
  },
  {
   "cell_type": "code",
   "execution_count": null,
   "metadata": {},
   "outputs": [],
   "source": [
    "(\n",
    "    ggplot(author_hist, aes('score'))\n",
    "    + geom_histogram(color='black', fill='purple', bins=20)\n",
    "    + scale_x_continuous(breaks=np.arange(0,11,1)) \n",
    "    + facet_wrap(\"~ author\", nrow=6)\n",
    ")"
   ]
  },
  {
   "cell_type": "markdown",
   "metadata": {},
   "source": [
    "### Let's take a look at word frequencies."
   ]
  },
  {
   "cell_type": "code",
   "execution_count": null,
   "metadata": {},
   "outputs": [],
   "source": [
    "frequencies = pitchfork_data.loc[:,'like':]\n",
    "frequencies = frequencies.sum().reset_index()"
   ]
  },
  {
   "cell_type": "code",
   "execution_count": null,
   "metadata": {},
   "outputs": [],
   "source": [
    "frequencies = frequencies.rename({'index':'word', 0:'count'}, axis='columns')"
   ]
  },
  {
   "cell_type": "code",
   "execution_count": null,
   "metadata": {},
   "outputs": [],
   "source": [
    "(\n",
    "    ggplot(frequencies.loc[:50, :].sort_values('count'), aes(x='word',y='count'))\n",
    "    + geom_bar(stat='identity', color='black', fill='purple')\n",
    "    + coord_flip()\n",
    ")"
   ]
  },
  {
   "cell_type": "markdown",
   "metadata": {},
   "source": [
    "### Let's build out our dataframes to prepare for other exploratory analysis and modeling."
   ]
  },
  {
   "cell_type": "code",
   "execution_count": null,
   "metadata": {},
   "outputs": [],
   "source": [
    "y = pitchfork_data.category.values"
   ]
  },
  {
   "cell_type": "code",
   "execution_count": null,
   "metadata": {},
   "outputs": [],
   "source": []
  },
  {
   "cell_type": "code",
   "execution_count": null,
   "metadata": {},
   "outputs": [],
   "source": [
    "X"
   ]
  },
  {
   "cell_type": "code",
   "execution_count": null,
   "metadata": {},
   "outputs": [],
   "source": [
    "month_dummies = pd.get_dummies(pitchfork_data['month_label'])"
   ]
  },
  {
   "cell_type": "code",
   "execution_count": null,
   "metadata": {},
   "outputs": [],
   "source": [
    "author_dummies = pd.get_dummies(pitchfork_data['author'])\n"
   ]
  },
  {
   "cell_type": "code",
   "execution_count": null,
   "metadata": {},
   "outputs": [],
   "source": [
    "dummies = month_dummies.join(author_dummies, rsuffix='r')"
   ]
  },
  {
   "cell_type": "code",
   "execution_count": null,
   "metadata": {},
   "outputs": [],
   "source": [
    "scores = pitchfork_data['score'].reset_index()\n",
    "scores.drop(['index'], inplace=True, axis='columns')\n"
   ]
  },
  {
   "cell_type": "code",
   "execution_count": null,
   "metadata": {},
   "outputs": [],
   "source": [
    "all_pitchfork_data = scores.join(dummies)"
   ]
  },
  {
   "cell_type": "code",
   "execution_count": null,
   "metadata": {},
   "outputs": [],
   "source": [
    "feather.write_dataframe(all_pitchfork_data, 'all_pitchfork_data_w_dummies.feather')"
   ]
  },
  {
   "cell_type": "code",
   "execution_count": null,
   "metadata": {},
   "outputs": [],
   "source": [
    "all_pitchfork_data"
   ]
  },
  {
   "cell_type": "code",
   "execution_count": null,
   "metadata": {},
   "outputs": [],
   "source": [
    "features = all_pitchfork_data.columns[1:]\n",
    "visualizer = Rank2D(features=features, algorithm='pearson')\n",
    "y = all_pitchfork_data['score'].reset_index()\n",
    "y.drop(['index'], axis='columns', inplace=True)\n",
    "#X = all_pitchfork_data.iloc[:,1:]\n",
    "#X = X[features].as_matrix()\n",
    "#y = y.as_matrix()\n",
    "visualizer.fit(X, y)                # Fit the data to the visualizer\n",
    "visualizer.transform(X)             # Transform the data\n",
    "visualizer.poof()   "
   ]
  },
  {
   "cell_type": "code",
   "execution_count": null,
   "metadata": {},
   "outputs": [],
   "source": [
    "thresholder = VarianceThreshold(threshold=.01)\n",
    "X_high_variance = thresholder.fit_transform(X)"
   ]
  },
  {
   "cell_type": "code",
   "execution_count": null,
   "metadata": {},
   "outputs": [],
   "source": [
    "def feature_selection(data_set, feature_names):\n",
    "        \"\"\"\n",
    "\n",
    "        :param data_set:\n",
    "        :return:\n",
    "        \"\"\"\n",
    "        sel = VarianceThreshold(threshold=.001)\n",
    "        feature_set = sel.fit_transform(data_set)\n",
    "\n",
    "        fea_index = []\n",
    "        for A_col in np.arange(data_set.shape[1]):\n",
    "            for B_col in np.arange(feature_set.shape[1]):\n",
    "                if (data_set[:, A_col] == feature_set[:, B_col]).all():\n",
    "                    fea_index.append(A_col)\n",
    "\n",
    "        check = {}\n",
    "        for i in fea_index:\n",
    "            check[feature_names[i]] = data_set[0][i]\n",
    "        print (np.array(check))\n",
    "\n",
    "        return feature_set, fea_index "
   ]
  },
  {
   "cell_type": "code",
   "execution_count": null,
   "metadata": {},
   "outputs": [],
   "source": [
    "feature_set, fea_index =feature_selection(X, features)"
   ]
  },
  {
   "cell_type": "code",
   "execution_count": null,
   "metadata": {},
   "outputs": [],
   "source": [
    "fea_index"
   ]
  },
  {
   "cell_type": "code",
   "execution_count": null,
   "metadata": {},
   "outputs": [],
   "source": [
    "X = all_pitchfork_data.iloc[:,1:]\n",
    "X = X.iloc[:,fea_index]\n",
    "X"
   ]
  },
  {
   "cell_type": "code",
   "execution_count": null,
   "metadata": {},
   "outputs": [],
   "source": [
    "X_train, X_test, y_train, y_test = train_test_split(X, y, test_size=0.2, random_state=np.random.randint(1,1000))"
   ]
  },
  {
   "cell_type": "code",
   "execution_count": null,
   "metadata": {},
   "outputs": [],
   "source": [
    "X_res, y_res=SMOTE().fit_sample(X_train,y_train)"
   ]
  },
  {
   "cell_type": "code",
   "execution_count": null,
   "metadata": {},
   "outputs": [],
   "source": [
    "parameters = {'n_estimators':np.arange(1,650,50),\n",
    "             'max_depth': np.arange(1,31,2),\n",
    "             'min_samples_leaf': np.arange(1,31,1),\n",
    "             'min_samples_split': np.arange(1,31,1)}"
   ]
  },
  {
   "cell_type": "code",
   "execution_count": null,
   "metadata": {},
   "outputs": [],
   "source": [
    "rf = RandomForestRegressor()"
   ]
  },
  {
   "cell_type": "code",
   "execution_count": null,
   "metadata": {},
   "outputs": [],
   "source": [
    "clf = RandomizedSearchCV(rf, parameters, random_state=42, n_iter=20, cv=5, n_jobs=-1, scoring='r2')"
   ]
  },
  {
   "cell_type": "code",
   "execution_count": null,
   "metadata": {},
   "outputs": [],
   "source": [
    "best_model = clf.fit(X_train, y_train)"
   ]
  },
  {
   "cell_type": "code",
   "execution_count": null,
   "metadata": {},
   "outputs": [],
   "source": [
    "best_model.cv_results_"
   ]
  },
  {
   "cell_type": "code",
   "execution_count": null,
   "metadata": {},
   "outputs": [],
   "source": [
    "lr = linear_model.LogisticRegression()\n",
    "#cv_scores =  cross_val_score(lr, X_res, y_res, cv=10, scoring='f1')"
   ]
  },
  {
   "cell_type": "code",
   "execution_count": null,
   "metadata": {},
   "outputs": [],
   "source": [
    "cv_scores"
   ]
  },
  {
   "cell_type": "code",
   "execution_count": null,
   "metadata": {},
   "outputs": [],
   "source": [
    "C = np.logspace(0, 4, 15)\n",
    "penalty = ['l1', 'l2']\n",
    "hyperparameters = dict(C=C, penalty=penalty)\n",
    "hyperparameters"
   ]
  },
  {
   "cell_type": "code",
   "execution_count": null,
   "metadata": {},
   "outputs": [],
   "source": [
    "clf = RandomizedSearchCV(lr, hyperparameters, cv=5, verbose=1, n_jobs=-1, n_iter=5, scoring='f1')"
   ]
  },
  {
   "cell_type": "code",
   "execution_count": null,
   "metadata": {},
   "outputs": [],
   "source": [
    "best_model = clf.fit(X_res, y_res)"
   ]
  },
  {
   "cell_type": "code",
   "execution_count": null,
   "metadata": {},
   "outputs": [],
   "source": [
    "best_model.best_score_"
   ]
  },
  {
   "cell_type": "code",
   "execution_count": null,
   "metadata": {},
   "outputs": [],
   "source": [
    "rf =RandomForestClassifier()"
   ]
  },
  {
   "cell_type": "code",
   "execution_count": null,
   "metadata": {},
   "outputs": [],
   "source": [
    "clf = RandomizedSearchCV(rf, parameters, random_state=42, n_iter=5, cv=5, n_jobs=-1, scoring='f1')\n",
    "best_model_rf = clf.fit(X_res, y_res)"
   ]
  },
  {
   "cell_type": "code",
   "execution_count": null,
   "metadata": {},
   "outputs": [],
   "source": [
    "best_model_rf.best_score_"
   ]
  },
  {
   "cell_type": "code",
   "execution_count": null,
   "metadata": {},
   "outputs": [],
   "source": [
    "best_model.predict(X)"
   ]
  },
  {
   "cell_type": "code",
   "execution_count": null,
   "metadata": {},
   "outputs": [],
   "source": []
  },
  {
   "cell_type": "code",
   "execution_count": null,
   "metadata": {},
   "outputs": [],
   "source": [
    "best_model.best_estimator_"
   ]
  },
  {
   "cell_type": "code",
   "execution_count": null,
   "metadata": {},
   "outputs": [],
   "source": [
    "from yellowbrick.classifier import ROCAUC"
   ]
  },
  {
   "cell_type": "code",
   "execution_count": null,
   "metadata": {},
   "outputs": [],
   "source": [
    "fig = plt.figure(figsize=(10,10), dpi=250)\n",
    "visualizer = ROCAUC(best_model.best_estimator_, micro=False, macro=False, per_class=True, classes=['Best New Music', 'Not Best New Music'])\n",
    "visualizer.fit(X_res, y_res)\n",
    "visualizer.score(X_test, y_test)\n",
    "g = visualizer.poof()  "
   ]
  },
  {
   "cell_type": "code",
   "execution_count": null,
   "metadata": {},
   "outputs": [],
   "source": [
    "from yellowbrick.classifier import ConfusionMatrix\n",
    "fig = plt.figure(figsize=(8,8), dpi=250)\n",
    "cm = ConfusionMatrix(best_model.best_estimator_, percent=True)\n",
    "cm.fit(X_res, y_res)\n",
    "cm.score(X_test, y_test)\n",
    "cm.poof()\n",
    "fig.savefig('cm.png', bbox_inches='tight')"
   ]
  },
  {
   "cell_type": "code",
   "execution_count": null,
   "metadata": {},
   "outputs": [],
   "source": [
    "len(X_res)"
   ]
  },
  {
   "cell_type": "code",
   "execution_count": null,
   "metadata": {},
   "outputs": [],
   "source": [
    "features = pitchfork_data.iloc[:,6:-1].columns"
   ]
  },
  {
   "cell_type": "code",
   "execution_count": null,
   "metadata": {},
   "outputs": [],
   "source": [
    "from yellowbrick.features.importances import FeatureImportances\n",
    "import matplotlib.pyplot as plt"
   ]
  },
  {
   "cell_type": "code",
   "execution_count": null,
   "metadata": {},
   "outputs": [],
   "source": [
    "# Create a new figure\n",
    "fig = plt.figure(figsize=(5,100), dpi=250)\n",
    "ax = fig.add_subplot()\n",
    "labels = list(map(lambda s: s.title(), features))\n",
    "viz = FeatureImportances(best_model.best_estimator_, ax=ax, labels=labels, relative=False)\n",
    "viz.fit(X_res, y_res)\n",
    "viz.poof()"
   ]
  },
  {
   "cell_type": "code",
   "execution_count": null,
   "metadata": {},
   "outputs": [],
   "source": [
    "coefficients = pd.concat([pd.DataFrame(X.columns),pd.DataFrame(np.transpose(best_model.best_estimator_.coef_))], axis = 1)"
   ]
  },
  {
   "cell_type": "code",
   "execution_count": null,
   "metadata": {},
   "outputs": [],
   "source": [
    "coefficients.columns = ['word', 'coef']"
   ]
  },
  {
   "cell_type": "code",
   "execution_count": null,
   "metadata": {},
   "outputs": [],
   "source": [
    "coefficients.to_csv('coefficients.csv', index=False)"
   ]
  },
  {
   "cell_type": "code",
   "execution_count": null,
   "metadata": {},
   "outputs": [],
   "source": [
    "(\n",
    "    ggplot(coefficients.loc[0:25,:], aes('word', 'coef'))\n",
    "    + geom_bar(stat='identity')\n",
    "    + theme(axis_text_x = element_text(angle=90)) + coord_flip()\n",
    ")"
   ]
  },
  {
   "cell_type": "code",
   "execution_count": null,
   "metadata": {},
   "outputs": [],
   "source": [
    "import pandas as pd\n",
    "import numpy as np\n",
    "from pandas.api.types import CategoricalDtype\n",
    "from plotnine import *\n",
    "from plotnine.data import mpg"
   ]
  },
  {
   "cell_type": "code",
   "execution_count": null,
   "metadata": {},
   "outputs": [],
   "source": [
    "coef_list = coefficients['word'].value_counts().index.tolist()\n",
    "coef_cat = CategoricalDtype(categories=coef_list, ordered=True)\n",
    "coefficients['coef_cat']=coefficients['word'].astype(str).astype(coef_cat)"
   ]
  },
  {
   "cell_type": "code",
   "execution_count": null,
   "metadata": {},
   "outputs": [],
   "source": [
    "(\n",
    "    ggplot(coefficients.loc[0:25,:], aes('coef_cat', 'coef'))\n",
    "    + geom_bar(stat='identity')\n",
    "    + theme(axis_text_x = element_text(angle=90)) + coord_flip()\n",
    ")"
   ]
  },
  {
   "cell_type": "code",
   "execution_count": null,
   "metadata": {},
   "outputs": [],
   "source": []
  },
  {
   "cell_type": "code",
   "execution_count": null,
   "metadata": {},
   "outputs": [],
   "source": []
  },
  {
   "cell_type": "code",
   "execution_count": null,
   "metadata": {},
   "outputs": [],
   "source": []
  }
 ],
 "metadata": {
  "kernelspec": {
   "display_name": "Python 3",
   "language": "python",
   "name": "python3"
  },
  "language_info": {
   "codemirror_mode": {
    "name": "ipython",
    "version": 3
   },
   "file_extension": ".py",
   "mimetype": "text/x-python",
   "name": "python",
   "nbconvert_exporter": "python",
   "pygments_lexer": "ipython3",
   "version": "3.6.5"
  }
 },
 "nbformat": 4,
 "nbformat_minor": 2
}
