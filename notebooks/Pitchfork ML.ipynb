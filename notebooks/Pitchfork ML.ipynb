{
 "cells": [
  {
   "cell_type": "code",
   "execution_count": 1,
   "metadata": {},
   "outputs": [],
   "source": [
    "import sys\n",
    "import spacy\n",
    "import re\n",
    "import pickle\n",
    "import numpy as np\n",
    "import pandas as pd\n",
    "import scipy as sp\n",
    "from nltk.stem.porter import PorterStemmer\n",
    "from sklearn.feature_extraction.text import CountVectorizer\n",
    "from spacy.lang.en.stop_words import STOP_WORDS \n",
    "from collections import Counter\n",
    "from plotnine import *\n",
    "from pandas.tseries.offsets import MonthBegin\n",
    "from yellowbrick.features import Rank2D\n",
    "import feather\n",
    "import matplotlib.pyplot as plt\n",
    "from sklearn.feature_selection import VarianceThreshold\n",
    "from sklearn import linear_model\n",
    "from sklearn.model_selection import train_test_split\n",
    "from sklearn.model_selection import cross_val_score\n",
    "from sklearn.ensemble import RandomForestRegressor, RandomForestClassifier\n",
    "from sklearn.naive_bayes import MultinomialNB\n",
    "from sklearn.neighbors import KNeighborsClassifier\n",
    "from sklearn.svm import SVC\n",
    "from sklearn.model_selection import RandomizedSearchCV\n",
    "from imblearn.over_sampling import SMOTE, ADASYN\n",
    "from imblearn.combine import SMOTEENN\n",
    "from sklearn.pipeline import Pipeline\n",
    "from sklearn.preprocessing import StandardScaler\n"
   ]
  },
  {
   "cell_type": "code",
   "execution_count": 32,
   "metadata": {},
   "outputs": [],
   "source": [
    "class EstimatorSelectionHelper:\n",
    "    \n",
    "    def __init__(self, models, params, params2, proportion_iterations):\n",
    "        if not set(models.keys()).issubset(set(params.keys())):\n",
    "            missing_params = list(set(models.keys()) - set(params.keys()))\n",
    "            raise ValueError(\"Some estimators are missing parameters: %s\" % missing_params)\n",
    "        self.models = models\n",
    "        self.params = params\n",
    "        self.params2 = params2\n",
    "        self.keys = models.keys()\n",
    "        self.grid_searches = {}\n",
    "        self.proportion_iterations = proportion_iterations\n",
    "    \n",
    "    def fit(self, X, y, cv=3, n_jobs=-1, verbose=1, scoring=None, refit=False):\n",
    "        for key in self.keys:\n",
    "            print(\"Running GridSearchCV for {}.\".format(key))\n",
    "            model = self.models[key]\n",
    "            params = self.params[key]\n",
    "            gs = GridSearchCV(model, params, cv=cv, n_jobs=n_jobs, \n",
    "                              verbose=verbose, scoring=scoring, refit=refit,\n",
    "                              return_train_score=True)\n",
    "            gs.fit(X,y)\n",
    "            self.grid_searches[key] = gs\n",
    "            \n",
    "            \n",
    "    \n",
    "    def randomized_fit(self, X, y, cv=3, n_jobs=-1, verbose=1, scoring='f1'):\n",
    " \n",
    "        params = self.params\n",
    "        param_labels = []\n",
    "        df = list(pd.DataFrame(self.params2).prod())\n",
    "        \n",
    "        for key in self.keys:\n",
    "            param_labels.append(key)\n",
    "        \n",
    "        zipped = dict(zip(param_labels, df))\n",
    "        \n",
    "        for key in self.keys:\n",
    "            print(key)\n",
    "            if str(key) == 'RandomForestClassifier':\n",
    "                n_iter = int(round(zipped[key]*(self.proportion_iterations**20))) \n",
    "                print(\"Running RandomizedSearchCV for {} with {} iterations\".format(key, n_iter))\n",
    "            else:\n",
    "                n_iter = int(round(zipped[key]*self.proportion_iterations)) \n",
    "                print(\"Running RandomizedSearchCV for {} with {} iterations\".format(key, n_iter))\n",
    "            model=self.models[key]\n",
    "            params = self.params[key]\n",
    "            rs = RandomizedSearchCV(model, params, cv=cv, n_jobs=n_jobs, verbose=verbose, scoring=scoring, return_train_score=True, n_iter=n_iter)\n",
    "            rs.fit(X,y)\n",
    "            self.grid_searches[key] = rs\n",
    "       \n",
    "    \n",
    "    def score_summary(self, sort_by='mean_score'):\n",
    "        def row(key, scores, params):\n",
    "            d = {\n",
    "                 'estimator': key,\n",
    "                 'min_score': min(scores),\n",
    "                 'max_score': max(scores),\n",
    "                 'mean_score': np.mean(scores),\n",
    "                 'std_score': np.std(scores),\n",
    "            }\n",
    "            return pd.Series({**params,**d})\n",
    "                      \n",
    "        rows = []\n",
    "        for k in self.grid_searches:\n",
    "            print(k)\n",
    "            params = self.grid_searches[k].cv_results_['params']\n",
    "            scores = []\n",
    "            for i in range(self.grid_searches[k].cv):\n",
    "                key = \"split{}_test_score\".format(i)\n",
    "                r = self.grid_searches[k].cv_results_[key]        \n",
    "                scores.append(r.reshape(len(params),1))\n",
    "\n",
    "            all_scores = np.hstack(scores)\n",
    "            for p, s in zip(params,all_scores):\n",
    "                rows.append((row(k, s, p)))\n",
    "        \n",
    "        df = pd.concat(rows, axis=1).T.sort_values([sort_by], ascending=False)\n",
    "        \n",
    "        columns = ['estimator', 'min_score', 'mean_score', 'max_score', 'std_score']\n",
    "        columns = columns + [c for c in df.columns if c not in columns]\n",
    "        \n",
    "        return df[columns]\n"
   ]
  },
  {
   "cell_type": "code",
   "execution_count": 3,
   "metadata": {},
   "outputs": [],
   "source": [
    "# Read in data\n",
    "pitchfork_data = feather.read_dataframe('pitchfork_tfidf.feather')\n"
   ]
  },
  {
   "cell_type": "code",
   "execution_count": 4,
   "metadata": {},
   "outputs": [],
   "source": [
    "# Get x-y values\n",
    "X=pitchfork_data.iloc[:,6:-1]\n",
    "y = pitchfork_data.category.values"
   ]
  },
  {
   "cell_type": "code",
   "execution_count": 5,
   "metadata": {},
   "outputs": [],
   "source": [
    "# Test-Train Split\n",
    "X_train, X_test, y_train, y_test = train_test_split(X, y, test_size=0.2, random_state=np.random.randint(1,1000))"
   ]
  },
  {
   "cell_type": "code",
   "execution_count": 6,
   "metadata": {},
   "outputs": [],
   "source": [
    "# Oversample because class imbalance and also dimensionality reasons.\n",
    "X_res, y_res=SMOTE().fit_sample(X_train,y_train)"
   ]
  },
  {
   "cell_type": "code",
   "execution_count": 34,
   "metadata": {},
   "outputs": [],
   "source": [
    "models1 = {\n",
    "    'RandomForestClassifier': RandomForestClassifier(),\n",
    "    'MultinomialNB': MultinomialNB(),\n",
    "    'LogisticRegression': linear_model.LogisticRegression(),\n",
    "    'SVC': SVC(),\n",
    "    'KNeighborsClassifier': KNeighborsClassifier()\n",
    "}\n",
    "\n",
    "params1 = {\n",
    "    'RandomForestClassifier': {'n_estimators':np.arange(1,650,50),\n",
    "             'max_depth': np.arange(2,31,2),\n",
    "             'min_samples_leaf': np.arange(2,31,1),\n",
    "             'min_samples_split': np.arange(2,31,1)},\n",
    "    'MultinomialNB':{'alpha': np.linspace(0.5,1,10),\n",
    "                    'fit_prior': [True],\n",
    "                    'class_prior': [None]},\n",
    "    'LogisticRegression':{'C': np.logspace(0, 4, 15),\n",
    "                         'penalty':['l1','l2']},\n",
    "    'SVC': {'C': np.linspace(0.5,1,10),\n",
    "           'kernel': ['linear', 'poly', 'rbf']},\n",
    "    'KNeighborsClassifier': {'n_neighbors': np.arange(2,16,1)}\n",
    "}\n",
    "\n",
    "params2 = {\n",
    "    'RandomForestClassifier': {'n_estimators':len(np.arange(1,650,50)),\n",
    "             'max_depth': len(np.arange(2,31,2)),\n",
    "             'min_samples_leaf': len(np.arange(2,31,1)),\n",
    "             'min_samples_split': len(np.arange(2,31,1))},\n",
    "    \n",
    "    'MultinomialNB':{'alpha': len(np.linspace(0.5,1,10)),\n",
    "                    'fit_prior': len([True]),\n",
    "                    'class_prior': len([None])},\n",
    "    \n",
    "    'LogisticRegression':{'C': len(np.logspace(0, 4, 15)),\n",
    "                         'penalty':len(['l1','l2'])},\n",
    "    \n",
    "             \n",
    "    'SVC': {'C': len(np.linspace(0.5,1,10)),\n",
    "           'kernel': len(['linear', 'poly', 'rbf'])},\n",
    "    \n",
    "    'KNeighborsClassifier': {'n_neighbors': len(np.arange(2,16,1))}\n",
    "}\n",
    "\n"
   ]
  },
  {
   "cell_type": "code",
   "execution_count": null,
   "metadata": {},
   "outputs": [
    {
     "name": "stdout",
     "output_type": "stream",
     "text": [
      "RandomForestClassifier\n",
      "True\n",
      "Running RandomizedSearchCV for RandomForestClassifier with 17 iterations\n",
      "Fitting 5 folds for each of 17 candidates, totalling 85 fits\n"
     ]
    },
    {
     "name": "stderr",
     "output_type": "stream",
     "text": [
      "[Parallel(n_jobs=-1)]: Done  42 tasks      | elapsed: 11.0min\n",
      "[Parallel(n_jobs=-1)]: Done  85 out of  85 | elapsed: 24.0min finished\n"
     ]
    },
    {
     "name": "stdout",
     "output_type": "stream",
     "text": [
      "MultinomialNB\n",
      "Running RandomizedSearchCV for MultinomialNB with 4 iterations\n",
      "Fitting 5 folds for each of 4 candidates, totalling 20 fits\n"
     ]
    },
    {
     "name": "stderr",
     "output_type": "stream",
     "text": [
      "[Parallel(n_jobs=-1)]: Done  20 out of  20 | elapsed:   36.1s finished\n"
     ]
    },
    {
     "name": "stdout",
     "output_type": "stream",
     "text": [
      "LogisticRegression\n",
      "Running RandomizedSearchCV for LogisticRegression with 12 iterations\n",
      "Fitting 5 folds for each of 12 candidates, totalling 60 fits\n"
     ]
    },
    {
     "name": "stderr",
     "output_type": "stream",
     "text": [
      "[Parallel(n_jobs=-1)]: Done  42 tasks      | elapsed:  3.7min\n",
      "[Parallel(n_jobs=-1)]: Done  60 out of  60 | elapsed:  5.2min finished\n"
     ]
    },
    {
     "name": "stdout",
     "output_type": "stream",
     "text": [
      "SVC\n",
      "Running RandomizedSearchCV for SVC with 12 iterations\n",
      "Fitting 5 folds for each of 12 candidates, totalling 60 fits\n"
     ]
    }
   ],
   "source": [
    "helper1 = EstimatorSelectionHelper(models1, params1, params2, proportion_iterations=.4)\n",
    "helper1.randomized_fit(X_res, y_res, scoring='f1', n_jobs=-1, cv=5)"
   ]
  },
  {
   "cell_type": "code",
   "execution_count": null,
   "metadata": {},
   "outputs": [],
   "source": [
    "helper1.score_summary(sort_by='max_score').to_csv('model_scores.csv', index=False)"
   ]
  }
 ],
 "metadata": {
  "kernelspec": {
   "display_name": "Python 3",
   "language": "python",
   "name": "python3"
  },
  "language_info": {
   "codemirror_mode": {
    "name": "ipython",
    "version": 3
   },
   "file_extension": ".py",
   "mimetype": "text/x-python",
   "name": "python",
   "nbconvert_exporter": "python",
   "pygments_lexer": "ipython3",
   "version": "3.6.5"
  }
 },
 "nbformat": 4,
 "nbformat_minor": 2
}
